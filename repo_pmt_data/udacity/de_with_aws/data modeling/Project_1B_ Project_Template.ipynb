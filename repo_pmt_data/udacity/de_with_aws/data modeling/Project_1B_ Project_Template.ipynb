{
 "cells": [
  {
   "cell_type": "markdown",
   "metadata": {},
   "source": [
    "# Part I. ETL Pipeline for Pre-Processing the Files"
   ]
  },
  {
   "cell_type": "markdown",
   "metadata": {},
   "source": [
    "## PLEASE RUN THE FOLLOWING CODE FOR PRE-PROCESSING THE FILES"
   ]
  },
  {
   "cell_type": "markdown",
   "metadata": {},
   "source": [
    "#### Import Python packages "
   ]
  },
  {
   "cell_type": "code",
   "metadata": {
    "ExecuteTime": {
     "end_time": "2024-04-29T09:43:28.106039Z",
     "start_time": "2024-04-29T09:43:28.100539Z"
    }
   },
   "source": [
    "# Import Python packages \n",
    "import pandas as pd\n",
    "import cassandra\n",
    "import re\n",
    "import os\n",
    "import glob\n",
    "import numpy as np\n",
    "import json\n",
    "import csv"
   ],
   "execution_count": 14,
   "outputs": []
  },
  {
   "metadata": {
    "ExecuteTime": {
     "end_time": "2024-04-29T09:43:28.655494Z",
     "start_time": "2024-04-29T09:43:28.651038Z"
    }
   },
   "cell_type": "code",
   "source": "#### Creating list of filepaths to process original event csv data files",
   "execution_count": 15,
   "outputs": []
  },
  {
   "cell_type": "code",
   "metadata": {
    "ExecuteTime": {
     "end_time": "2024-04-29T09:43:28.741020Z",
     "start_time": "2024-04-29T09:43:28.734496Z"
    }
   },
   "source": [
    "# checking your current working directory\n",
    "print(os.getcwd())\n",
    "\n",
    "# Get your current folder and subfolder event data\n",
    "filepath = os.getcwd() + '/event_data'\n",
    "\n",
    "# Create a for loop to create a list of files and collect each filepath\n",
    "for root, dirs, files in os.walk(filepath):\n",
    "    # join the file path and roots with the subdirectories using glob\n",
    "    file_path_list = glob.glob(os.path.join(root, '*'))\n",
    "    #print(file_path_list)"
   ],
   "execution_count": 16,
   "outputs": []
  },
  {
   "cell_type": "markdown",
   "metadata": {},
   "source": [
    "#### Processing the files to create the data file csv that will be used for Apache Casssandra tables"
   ]
  },
  {
   "cell_type": "code",
   "metadata": {
    "ExecuteTime": {
     "end_time": "2024-04-29T09:43:28.880014Z",
     "start_time": "2024-04-29T09:43:28.867016Z"
    }
   },
   "source": [
    "# initiating an empty list of rows that will be generated from each file\n",
    "full_data_rows_list = []\n",
    "\n",
    "# for every filepath in the file path list \n",
    "for f in file_path_list:\n",
    "\n",
    "    # reading csv file \n",
    "    with open(f, 'r', encoding='utf8', newline='') as csvfile:\n",
    "        # creating a csv reader object \n",
    "        csvreader = csv.reader(csvfile)\n",
    "        next(csvreader)\n",
    "\n",
    "        # extracting each data row one by one and append it        \n",
    "        for line in csvreader:\n",
    "            #print(line)\n",
    "            full_data_rows_list.append(line)\n",
    "\n",
    "        # uncomment the code below if you would like to get total number of rows \n",
    "#print(len(full_data_rows_list))\n",
    "# uncomment the code below if you would like to check to see what the list of event data rows will look like\n",
    "#print(full_data_rows_list)\n",
    "\n",
    "# creating a smaller event data csv file called event_datafile_full csv that will be used to insert data into the \\\n",
    "# Apache Cassandra tables\n",
    "csv.register_dialect('myDialect', quoting=csv.QUOTE_ALL, skipinitialspace=True)\n",
    "\n",
    "with open('event_datafile_new2.csv', 'w', encoding='utf8', newline='') as f:\n",
    "    writer = csv.writer(f, dialect='myDialect')\n",
    "    writer.writerow(['artist', 'firstName', 'gender', 'itemInSession', 'lastName', 'length',\n",
    "                     'level', 'location', 'sessionId', 'song', 'userId'])\n",
    "    for row in full_data_rows_list:\n",
    "        if row[0] == '':\n",
    "            continue\n",
    "        writer.writerow((row[0], row[2], row[3], row[4], row[5], row[6], row[7], row[8], row[12], row[13], row[16]))\n"
   ],
   "execution_count": 17,
   "outputs": []
  },
  {
   "cell_type": "code",
   "metadata": {
    "ExecuteTime": {
     "end_time": "2024-04-29T09:43:28.938553Z",
     "start_time": "2024-04-29T09:43:28.928017Z"
    }
   },
   "source": [
    "# check the number of rows in your csv file\n",
    "with open('event_datafile_new.csv', 'r', encoding='utf8') as f:\n",
    "    print(sum(1 for line in f))"
   ],
   "execution_count": 18,
   "outputs": []
  },
  {
   "cell_type": "markdown",
   "metadata": {},
   "source": [
    "# Part II. Complete the Apache Cassandra coding portion of your project. \n",
    "\n",
    "## Now you are ready to work with the CSV file titled <font color=red>event_datafile_new.csv</font>, located within the Workspace directory.  The event_datafile_new.csv contains the following columns: \n",
    "- artist \n",
    "- firstName of user\n",
    "- gender of user\n",
    "- item number in session\n",
    "- last name of user\n",
    "- length of the song\n",
    "- level (paid or free song)\n",
    "- location of the user\n",
    "- sessionId\n",
    "- song title\n",
    "- userId\n",
    "\n",
    "The image below is a screenshot of what the denormalized data should appear like in the <font color=red>**event_datafile_new.csv**</font> after the code above is run:<br>\n",
    "\n",
    "<img src=\"../resources/img/img.png\">"
   ]
  },
  {
   "cell_type": "markdown",
   "metadata": {},
   "source": [
    "## Begin writing your Apache Cassandra code in the cells below"
   ]
  },
  {
   "cell_type": "markdown",
   "metadata": {},
   "source": [
    "#### Creating a Cluster"
   ]
  },
  {
   "cell_type": "code",
   "metadata": {
    "ExecuteTime": {
     "end_time": "2024-04-29T09:43:34.189767Z",
     "start_time": "2024-04-29T09:43:29.166422Z"
    }
   },
   "source": [
    "# This should make a connection to a Cassandra instance your local machine \n",
    "# (127.0.0.1) docker run -p 9042:9042 --rm --name cassandra -d cassandra:3.11\n",
    "\n",
    "from cassandra.cluster import Cluster\n",
    "\n",
    "cluster = Cluster(['127.0.0.1'])  #['127.0.0.1']\n",
    "\n",
    "# To establish connection and begin executing queries, need a session\n",
    "session = cluster.connect()"
   ],
   "execution_count": 19,
   "outputs": []
  },
  {
   "cell_type": "markdown",
   "metadata": {},
   "source": [
    "#### Create Keyspace"
   ]
  },
  {
   "cell_type": "code",
   "metadata": {
    "ExecuteTime": {
     "end_time": "2024-04-29T09:43:34.215637Z",
     "start_time": "2024-04-29T09:43:34.192767Z"
    }
   },
   "source": [
    "try:\n",
    "    session.execute(\n",
    "        \"\"\"CREATE KEYSPACE IF NOT EXISTS udacity WITH REPLICATION = { 'class' : 'SimpleStrategy', 'replication_factor' : 1 }\"\"\"\n",
    "    )\n",
    "\n",
    "except Exception as e:\n",
    "    print(e)"
   ],
   "execution_count": 20,
   "outputs": []
  },
  {
   "cell_type": "markdown",
   "metadata": {},
   "source": [
    "#### Set Keyspace"
   ]
  },
  {
   "cell_type": "code",
   "metadata": {
    "ExecuteTime": {
     "end_time": "2024-04-29T09:43:34.233670Z",
     "start_time": "2024-04-29T09:43:34.218295Z"
    }
   },
   "source": [
    "try:\n",
    "    session.set_keyspace('udacity')\n",
    "except Exception as e:\n",
    "    print(e)"
   ],
   "execution_count": 21,
   "outputs": []
  },
  {
   "cell_type": "markdown",
   "metadata": {},
   "source": [
    "### Now we need to create tables to run the following queries. Remember, with Apache Cassandra you model the database tables on the queries you want to run."
   ]
  },
  {
   "metadata": {
    "ExecuteTime": {
     "end_time": "2024-04-29T09:43:34.247206Z",
     "start_time": "2024-04-29T09:43:34.240671Z"
    }
   },
   "cell_type": "code",
   "source": [
    "drop_table_query = \"DROP TABLE IF EXISTS {table_name}\"\n",
    "create_table_query = \"CREATE TABLE IF NOT EXISTS {table_name} ({atbs})\"\n",
    "create_primary_key = \"PRIMARY KEY ({primary_keys})\"\n",
    "insert_query = \"INSERT INTO {table_name} ({atbs}) VALUES ({values})\"\n",
    "select_query = \"SELECT {atbs} FROM {table_name} {where} {order};\"\n",
    "create_index_query = \"CREATE INDEX {index_name} ON {table_name} ({col})\"\n",
    "where = \"WHERE {condition}\"\n",
    "order = \"ORDER BY {order}\""
   ],
   "execution_count": 22,
   "outputs": []
  },
  {
   "metadata": {
    "ExecuteTime": {
     "end_time": "2024-04-29T09:43:34.253833Z",
     "start_time": "2024-04-29T09:43:34.249198Z"
    }
   },
   "cell_type": "code",
   "source": "",
   "execution_count": 22,
   "outputs": []
  },
  {
   "metadata": {},
   "cell_type": "markdown",
   "source": "## Table song_details"
  },
  {
   "metadata": {
    "ExecuteTime": {
     "end_time": "2024-04-29T09:43:35.383696Z",
     "start_time": "2024-04-29T09:43:34.255830Z"
    }
   },
   "cell_type": "code",
   "source": [
    "try:\n",
    "    new_table = 'song_details'\n",
    "    session.execute(drop_table_query.format(table_name=new_table))\n",
    "    session.execute(\n",
    "        create_table_query.format(\n",
    "            table_name=new_table,\n",
    "            atbs=f\"\"\"\n",
    "                sessionId bigint,\n",
    "                itemInSession bigint,\n",
    "                artist text,\n",
    "                song text,\n",
    "                length float,\n",
    "                {create_primary_key.format(primary_keys=\"sessionId, itemInSession\")} \n",
    "            \"\"\"\n",
    "        )  #query (1) need query by itemInSession, sessionId \n",
    "    )\n",
    "except Exception as e:\n",
    "    print(e)\n",
    "\n",
    "\n"
   ],
   "execution_count": 23,
   "outputs": []
  },
  {
   "metadata": {},
   "cell_type": "markdown",
   "source": "## Table user_details"
  },
  {
   "metadata": {
    "ExecuteTime": {
     "end_time": "2024-04-29T09:43:36.671698Z",
     "start_time": "2024-04-29T09:43:35.388740Z"
    }
   },
   "cell_type": "code",
   "source": [
    "try:\n",
    "    new_table = 'song_history'\n",
    "    session.execute(drop_table_query.format(table_name=new_table))\n",
    "    session.execute(\n",
    "        create_table_query.format(\n",
    "            table_name=new_table,\n",
    "            atbs=f\"\"\"\n",
    "                userId bigint,\n",
    "                sessionId bigint,\n",
    "                itemInSession bigint,\n",
    "                firstName text,\n",
    "                lastName text,\n",
    "                artist text,\n",
    "                song text,\n",
    "                {create_primary_key.format(primary_keys=\"(userId, sessionId), itemInSession\")} \n",
    "            \"\"\"\n",
    "        )  #query (2) need query by (userId, sessionId) and order by itemInSession\n",
    "    )\n",
    "except Exception as e:\n",
    "    print(e)"
   ],
   "execution_count": 24,
   "outputs": []
  },
  {
   "metadata": {
    "ExecuteTime": {
     "end_time": "2024-04-29T09:43:37.870252Z",
     "start_time": "2024-04-29T09:43:36.673869Z"
    }
   },
   "cell_type": "code",
   "source": [
    "try:\n",
    "    new_table = 'user_history'\n",
    "    session.execute(drop_table_query.format(table_name=new_table))\n",
    "    session.execute(\n",
    "        create_table_query.format(\n",
    "            table_name=new_table,\n",
    "            atbs=f\"\"\"\n",
    "                userId bigint,\n",
    "                song text,\n",
    "                firstName text,\n",
    "                lastName text,\n",
    "                {create_primary_key.format(primary_keys=\"song, userId\")} \n",
    "            \"\"\"\n",
    "        )  \n",
    "    )\n",
    "except Exception as e:\n",
    "    print(e)"
   ],
   "execution_count": 25,
   "outputs": []
  },
  {
   "cell_type": "markdown",
   "metadata": {},
   "source": [
    "## Create queries to ask the following three questions of the data\n",
    "\n",
    "### 1. Give me the artist, song title and song's length in the music app history that was heard during  sessionId = 338, and itemInSession  = 4\n",
    "\n",
    "\n",
    "### 2. Give me only the following: name of artist, song (sorted by itemInSession) and user (first and last name) for userid = 10, sessionid = 182\n",
    "    \n",
    "\n",
    "### 3. Give me every user name (first and last) in my music app history who listened to the song 'All Hands Against His Own'\n",
    "\n",
    "\n"
   ]
  },
  {
   "metadata": {
    "ExecuteTime": {
     "end_time": "2024-04-29T09:49:09.550366Z",
     "start_time": "2024-04-29T09:43:37.873490Z"
    }
   },
   "cell_type": "code",
   "source": [
    "# We have provided part of the code to set up the CSV file. Please complete the Apache Cassandra code below#\n",
    "file = 'event_datafile_new.csv'\n",
    "\n",
    "with open(file, encoding='utf8') as f:\n",
    "    reader = csv.reader(f)\n",
    "    next(reader)\n",
    "    for line in reader:\n",
    "        session.execute(\n",
    "            insert_query.format(\n",
    "                table_name=\"song_details\",\n",
    "                atbs=\"sessionId, itemInSession, artist, song, length\",\n",
    "                values=\"%s, %s, %s, %s, %s\"),\n",
    "            (int(line[8]), int(line[3]), line[0], line[9], float(line[5]))\n",
    "        )\n",
    "        session.execute(\n",
    "            insert_query.format(\n",
    "                table_name=\"song_history\",\n",
    "                atbs=\"userId,sessionId, itemInSession,firstName, lastName, artist, song\",\n",
    "                values=\"%s, %s, %s, %s,%s, %s, %s\"),\n",
    "            (int(line[10]),int(line[8]), int(line[3]), line[1], line[4], line[0], line[9])\n",
    "        )\n",
    "        session.execute(\n",
    "            insert_query.format(\n",
    "                table_name=\"user_history\",\n",
    "                atbs=\"userId,song, firstName, lastName\",\n",
    "                values=\"%s, %s, %s, %s\"),\n",
    "            (int(line[10]), line[9], line[1], line[4])\n",
    "        )"
   ],
   "execution_count": 26,
   "outputs": []
  },
  {
   "metadata": {},
   "cell_type": "markdown",
   "source": "#### Do a SELECT to verify that the data have been inserted into each table"
  },
  {
   "metadata": {
    "ExecuteTime": {
     "end_time": "2024-04-29T09:49:10.730945Z",
     "start_time": "2024-04-29T09:49:09.558440Z"
    }
   },
   "cell_type": "code",
   "source": [
    "try:\n",
    "    song_details = pd.DataFrame(list(session.execute(select_query.format(atbs='*',\n",
    "                                                                       table_name='song_details',\n",
    "                                                                       where=\"\",\n",
    "                                                                       order=\"\"))))\n",
    "    print(song_details)\n",
    "    song_history = pd.DataFrame(list(session.execute(select_query.format(atbs='*',\n",
    "                                                                    table_name='song_history',\n",
    "                                                                    where=\"\",\n",
    "                                                                    order=\"\"))))\n",
    "    print(song_history)\n",
    "    user_history = pd.DataFrame(list(session.execute(select_query.format(atbs='*',\n",
    "                                                                    table_name='user_history',\n",
    "                                                                    where=\"\",\n",
    "                                                                    order=\"\"))))\n",
    "    print(user_history)\n",
    "except Exception as e:\n",
    "    print(e)\n"
   ],
   "execution_count": 27,
   "outputs": []
  },
  {
   "metadata": {
    "ExecuteTime": {
     "end_time": "2024-04-29T09:49:10.755144Z",
     "start_time": "2024-04-29T09:49:10.735914Z"
    }
   },
   "cell_type": "code",
   "source": [
    "## Give me the artist, song title and song's length in the music app history that was heard during \n",
    "# sessionId = 338, and itemInSession = 4\n",
    "\n",
    "query1 = select_query.format(atbs=\"artist, song, length\", table_name='song_details',\n",
    "                             where=where.format(condition=\"sessionId =338 and itemInSession =4\"),\n",
    "                             order=\"\"\n",
    "                             )\n",
    "\n",
    "try:\n",
    "    df_output = pd.DataFrame(list(session.execute(query1)))\n",
    "    print(df_output)\n",
    "except Exception as e:\n",
    "    print(e)\n"
   ],
   "execution_count": 28,
   "outputs": []
  },
  {
   "cell_type": "markdown",
   "metadata": {},
   "source": [
    "### COPY AND REPEAT THE ABOVE THREE CELLS FOR EACH OF THE THREE QUESTIONS"
   ]
  },
  {
   "cell_type": "code",
   "metadata": {
    "ExecuteTime": {
     "end_time": "2024-04-29T09:49:10.798077Z",
     "start_time": "2024-04-29T09:49:10.757519Z"
    }
   },
   "source": [
    "## Give me only the following: name of artist, song (sorted by itemInSession) and user (first and last name)\\\n",
    "## for userid = 10, sessionid = 182\n",
    "\n",
    "query_session = select_query.format(atbs=\"firstName,lastName, artist, song\",\n",
    "                                    table_name='song_history',\n",
    "                                    where=where.format(\n",
    "                                        condition=\"userId = 10 and sessionId = 182\"),\n",
    "                                    order=order.format(order=\"itemInSession\"))\n",
    "\n",
    "try:\n",
    "    df_output = pd.DataFrame(list(session.execute(query_session)))\n",
    "    print(df_output)\n",
    "except Exception as e:\n",
    "    print(e)\n"
   ],
   "execution_count": 29,
   "outputs": []
  },
  {
   "cell_type": "code",
   "metadata": {
    "ExecuteTime": {
     "end_time": "2024-04-29T09:49:10.803616Z",
     "start_time": "2024-04-29T09:49:10.800076Z"
    }
   },
   "source": [],
   "execution_count": 29,
   "outputs": []
  },
  {
   "metadata": {
    "ExecuteTime": {
     "end_time": "2024-04-29T09:49:10.842106Z",
     "start_time": "2024-04-29T09:49:10.807624Z"
    }
   },
   "cell_type": "code",
   "source": [
    "##Give me every user name (first and last) in my music app history who listened to the song 'All Hands Against His Own'\n",
    "\n",
    "\n",
    "query_session = select_query.format(atbs=\"firstName, lastName\",\n",
    "                                    table_name='user_history',\n",
    "                                    where=where.format(condition=\"song = 'All Hands Against His Own'\"), order=\"\")\n",
    "\n",
    "try:\n",
    "    df_output = pd.DataFrame(list(session.execute(query_session)))\n",
    "    print(df_output)\n",
    "except Exception as e:\n",
    "    print(e)\n"
   ],
   "execution_count": 30,
   "outputs": []
  },
  {
   "cell_type": "code",
   "metadata": {
    "ExecuteTime": {
     "end_time": "2024-04-29T09:49:10.849230Z",
     "start_time": "2024-04-29T09:49:10.845954Z"
    }
   },
   "source": [],
   "execution_count": 30,
   "outputs": []
  },
  {
   "cell_type": "markdown",
   "metadata": {},
   "source": [
    "### Drop the tables before closing out the sessions"
   ]
  },
  {
   "cell_type": "code",
   "metadata": {
    "ExecuteTime": {
     "end_time": "2024-04-29T09:49:10.873991Z",
     "start_time": "2024-04-29T09:49:10.852227Z"
    }
   },
   "source": [
    "## TO-DO: Drop the table before closing out the sessions"
   ],
   "execution_count": 31,
   "outputs": []
  },
  {
   "cell_type": "code",
   "metadata": {
    "ExecuteTime": {
     "end_time": "2024-04-29T09:49:10.900115Z",
     "start_time": "2024-04-29T09:49:10.875991Z"
    }
   },
   "source": [
    "try:\n",
    "    session.execute(drop_table_query.format(table_name=\"session\"))\n",
    "    session.execute(drop_table_query.format(table_name=\"user\"))\n",
    "except Exception as e:\n",
    "    print(e)"
   ],
   "execution_count": 32,
   "outputs": []
  },
  {
   "cell_type": "markdown",
   "metadata": {},
   "source": [
    "### Close the session and cluster connection¶"
   ]
  },
  {
   "cell_type": "code",
   "metadata": {
    "ExecuteTime": {
     "end_time": "2024-04-29T09:49:10.903113Z",
     "start_time": "2024-04-29T09:49:10.903113Z"
    }
   },
   "source": [
    "session.shutdown()\n",
    "cluster.shutdown()"
   ],
   "execution_count": null,
   "outputs": []
  },
  {
   "cell_type": "code",
   "metadata": {
    "ExecuteTime": {
     "end_time": "2024-04-29T09:49:10.906116Z",
     "start_time": "2024-04-29T09:49:10.904112Z"
    }
   },
   "source": [],
   "execution_count": null,
   "outputs": []
  },
  {
   "cell_type": "code",
   "metadata": {
    "ExecuteTime": {
     "end_time": "2024-04-29T09:49:10.907120Z",
     "start_time": "2024-04-29T09:49:10.907120Z"
    }
   },
   "source": [],
   "execution_count": null,
   "outputs": []
  },
  {
   "metadata": {},
   "cell_type": "code",
   "source": "",
   "execution_count": null,
   "outputs": []
  }
 ],
 "metadata": {
  "kernelspec": {
   "display_name": "Python 3",
   "language": "python",
   "name": "python3"
  },
  "language_info": {
   "codemirror_mode": {
    "name": "ipython",
    "version": 3
   },
   "file_extension": ".py",
   "mimetype": "text/x-python",
   "name": "python",
   "nbconvert_exporter": "python",
   "pygments_lexer": "ipython3",
   "version": "3.6.3"
  }
 },
 "nbformat": 4,
 "nbformat_minor": 2
}
