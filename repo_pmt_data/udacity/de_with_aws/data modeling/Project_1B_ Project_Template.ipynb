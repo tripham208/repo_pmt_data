{
 "cells": [
  {
   "cell_type": "markdown",
   "metadata": {},
   "source": [
    "# Part I. ETL Pipeline for Pre-Processing the Files"
   ]
  },
  {
   "cell_type": "markdown",
   "metadata": {},
   "source": [
    "## PLEASE RUN THE FOLLOWING CODE FOR PRE-PROCESSING THE FILES"
   ]
  },
  {
   "cell_type": "markdown",
   "metadata": {},
   "source": [
    "#### Import Python packages "
   ]
  },
  {
   "cell_type": "code",
   "metadata": {
    "ExecuteTime": {
     "end_time": "2024-04-29T09:43:28.106039Z",
     "start_time": "2024-04-29T09:43:28.100539Z"
    }
   },
   "source": [
    "# Import Python packages \n",
    "import pandas as pd\n",
    "import cassandra\n",
    "import re\n",
    "import os\n",
    "import glob\n",
    "import numpy as np\n",
    "import json\n",
    "import csv"
   ],
   "outputs": [],
   "execution_count": 14
  },
  {
   "metadata": {
    "ExecuteTime": {
     "end_time": "2024-04-29T09:43:28.655494Z",
     "start_time": "2024-04-29T09:43:28.651038Z"
    }
   },
   "cell_type": "code",
   "source": "#### Creating list of filepaths to process original event csv data files",
   "outputs": [],
   "execution_count": 15
  },
  {
   "cell_type": "code",
   "metadata": {
    "ExecuteTime": {
     "end_time": "2024-04-29T09:43:28.741020Z",
     "start_time": "2024-04-29T09:43:28.734496Z"
    }
   },
   "source": [
    "# checking your current working directory\n",
    "print(os.getcwd())\n",
    "\n",
    "# Get your current folder and subfolder event data\n",
    "filepath = os.getcwd() + '/event_data'\n",
    "\n",
    "# Create a for loop to create a list of files and collect each filepath\n",
    "for root, dirs, files in os.walk(filepath):\n",
    "    # join the file path and roots with the subdirectories using glob\n",
    "    file_path_list = glob.glob(os.path.join(root, '*'))\n",
    "    #print(file_path_list)"
   ],
   "outputs": [
    {
     "name": "stdout",
     "output_type": "stream",
     "text": [
      "C:\\Users\\VBK computer\\Desktop\\PMT Project\\New folder\\repo_pmt_data\\repo_pmt_data\\udacity\\de_with_aws\\data modeling\n"
     ]
    }
   ],
   "execution_count": 16
  },
  {
   "cell_type": "markdown",
   "metadata": {},
   "source": [
    "#### Processing the files to create the data file csv that will be used for Apache Casssandra tables"
   ]
  },
  {
   "cell_type": "code",
   "metadata": {
    "ExecuteTime": {
     "end_time": "2024-04-29T09:43:28.880014Z",
     "start_time": "2024-04-29T09:43:28.867016Z"
    }
   },
   "source": [
    "# initiating an empty list of rows that will be generated from each file\n",
    "full_data_rows_list = []\n",
    "\n",
    "# for every filepath in the file path list \n",
    "for f in file_path_list:\n",
    "\n",
    "    # reading csv file \n",
    "    with open(f, 'r', encoding='utf8', newline='') as csvfile:\n",
    "        # creating a csv reader object \n",
    "        csvreader = csv.reader(csvfile)\n",
    "        next(csvreader)\n",
    "\n",
    "        # extracting each data row one by one and append it        \n",
    "        for line in csvreader:\n",
    "            #print(line)\n",
    "            full_data_rows_list.append(line)\n",
    "\n",
    "        # uncomment the code below if you would like to get total number of rows \n",
    "#print(len(full_data_rows_list))\n",
    "# uncomment the code below if you would like to check to see what the list of event data rows will look like\n",
    "#print(full_data_rows_list)\n",
    "\n",
    "# creating a smaller event data csv file called event_datafile_full csv that will be used to insert data into the \\\n",
    "# Apache Cassandra tables\n",
    "csv.register_dialect('myDialect', quoting=csv.QUOTE_ALL, skipinitialspace=True)\n",
    "\n",
    "with open('event_datafile_new2.csv', 'w', encoding='utf8', newline='') as f:\n",
    "    writer = csv.writer(f, dialect='myDialect')\n",
    "    writer.writerow(['artist', 'firstName', 'gender', 'itemInSession', 'lastName', 'length',\n",
    "                     'level', 'location', 'sessionId', 'song', 'userId'])\n",
    "    for row in full_data_rows_list:\n",
    "        if row[0] == '':\n",
    "            continue\n",
    "        writer.writerow((row[0], row[2], row[3], row[4], row[5], row[6], row[7], row[8], row[12], row[13], row[16]))\n"
   ],
   "outputs": [],
   "execution_count": 17
  },
  {
   "cell_type": "code",
   "metadata": {
    "ExecuteTime": {
     "end_time": "2024-04-29T09:43:28.938553Z",
     "start_time": "2024-04-29T09:43:28.928017Z"
    }
   },
   "source": [
    "# check the number of rows in your csv file\n",
    "with open('event_datafile_new.csv', 'r', encoding='utf8') as f:\n",
    "    print(sum(1 for line in f))"
   ],
   "outputs": [
    {
     "name": "stdout",
     "output_type": "stream",
     "text": [
      "6821\n"
     ]
    }
   ],
   "execution_count": 18
  },
  {
   "cell_type": "markdown",
   "metadata": {},
   "source": [
    "# Part II. Complete the Apache Cassandra coding portion of your project. \n",
    "\n",
    "## Now you are ready to work with the CSV file titled <font color=red>event_datafile_new.csv</font>, located within the Workspace directory.  The event_datafile_new.csv contains the following columns: \n",
    "- artist \n",
    "- firstName of user\n",
    "- gender of user\n",
    "- item number in session\n",
    "- last name of user\n",
    "- length of the song\n",
    "- level (paid or free song)\n",
    "- location of the user\n",
    "- sessionId\n",
    "- song title\n",
    "- userId\n",
    "\n",
    "The image below is a screenshot of what the denormalized data should appear like in the <font color=red>**event_datafile_new.csv**</font> after the code above is run:<br>\n",
    "\n",
    "<img src=\"../resources/img/img.png\">"
   ]
  },
  {
   "cell_type": "markdown",
   "metadata": {},
   "source": [
    "## Begin writing your Apache Cassandra code in the cells below"
   ]
  },
  {
   "cell_type": "markdown",
   "metadata": {},
   "source": [
    "#### Creating a Cluster"
   ]
  },
  {
   "cell_type": "code",
   "metadata": {
    "ExecuteTime": {
     "end_time": "2024-04-29T09:43:34.189767Z",
     "start_time": "2024-04-29T09:43:29.166422Z"
    }
   },
   "source": [
    "# This should make a connection to a Cassandra instance your local machine \n",
    "# (127.0.0.1) docker run -p 9042:9042 --rm --name cassandra -d cassandra:3.11\n",
    "\n",
    "from cassandra.cluster import Cluster\n",
    "\n",
    "cluster = Cluster(['127.0.0.1'])  #['127.0.0.1']\n",
    "\n",
    "# To establish connection and begin executing queries, need a session\n",
    "session = cluster.connect()"
   ],
   "outputs": [],
   "execution_count": 19
  },
  {
   "cell_type": "markdown",
   "metadata": {},
   "source": [
    "#### Create Keyspace"
   ]
  },
  {
   "cell_type": "code",
   "metadata": {
    "ExecuteTime": {
     "end_time": "2024-04-29T09:43:34.215637Z",
     "start_time": "2024-04-29T09:43:34.192767Z"
    }
   },
   "source": [
    "try:\n",
    "    session.execute(\n",
    "        \"\"\"CREATE KEYSPACE IF NOT EXISTS udacity WITH REPLICATION = { 'class' : 'SimpleStrategy', 'replication_factor' : 1 }\"\"\"\n",
    "    )\n",
    "\n",
    "except Exception as e:\n",
    "    print(e)"
   ],
   "outputs": [],
   "execution_count": 20
  },
  {
   "cell_type": "markdown",
   "metadata": {},
   "source": [
    "#### Set Keyspace"
   ]
  },
  {
   "cell_type": "code",
   "metadata": {
    "ExecuteTime": {
     "end_time": "2024-04-29T09:43:34.233670Z",
     "start_time": "2024-04-29T09:43:34.218295Z"
    }
   },
   "source": [
    "try:\n",
    "    session.set_keyspace('udacity')\n",
    "except Exception as e:\n",
    "    print(e)"
   ],
   "outputs": [],
   "execution_count": 21
  },
  {
   "cell_type": "markdown",
   "metadata": {},
   "source": [
    "### Now we need to create tables to run the following queries. Remember, with Apache Cassandra you model the database tables on the queries you want to run."
   ]
  },
  {
   "metadata": {
    "ExecuteTime": {
     "end_time": "2024-04-29T09:43:34.247206Z",
     "start_time": "2024-04-29T09:43:34.240671Z"
    }
   },
   "cell_type": "code",
   "source": [
    "drop_table_query = \"DROP TABLE IF EXISTS {table_name}\"\n",
    "create_table_query = \"CREATE TABLE IF NOT EXISTS {table_name} ({atbs})\"\n",
    "create_primary_key = \"PRIMARY KEY ({primary_keys})\"\n",
    "insert_query = \"INSERT INTO {table_name} ({atbs}) VALUES ({values})\"\n",
    "select_query = \"SELECT {atbs} FROM {table_name} {where} {order};\"\n",
    "create_index_query = \"CREATE INDEX {index_name} ON {table_name} ({col})\"\n",
    "where = \"WHERE {condition}\"\n",
    "order = \"ORDER BY {order}\""
   ],
   "outputs": [],
   "execution_count": 22
  },
  {
   "metadata": {
    "ExecuteTime": {
     "end_time": "2024-04-29T09:43:34.253833Z",
     "start_time": "2024-04-29T09:43:34.249198Z"
    }
   },
   "cell_type": "code",
   "source": "",
   "outputs": [],
   "execution_count": 22
  },
  {
   "metadata": {},
   "cell_type": "markdown",
   "source": "## Table song_details"
  },
  {
   "metadata": {
    "ExecuteTime": {
     "end_time": "2024-04-29T09:43:35.383696Z",
     "start_time": "2024-04-29T09:43:34.255830Z"
    }
   },
   "cell_type": "code",
   "source": [
    "try:\n",
    "    new_table = 'song_details'\n",
    "    session.execute(drop_table_query.format(table_name=new_table))\n",
    "    session.execute(\n",
    "        create_table_query.format(\n",
    "            table_name=new_table,\n",
    "            atbs=f\"\"\"\n",
    "                sessionId bigint,\n",
    "                itemInSession bigint,\n",
    "                artist text,\n",
    "                song text,\n",
    "                length float,\n",
    "                {create_primary_key.format(primary_keys=\"sessionId, itemInSession\")} \n",
    "            \"\"\"\n",
    "        )  #query (1) need query by itemInSession, sessionId \n",
    "    )\n",
    "except Exception as e:\n",
    "    print(e)\n",
    "\n",
    "\n"
   ],
   "outputs": [],
   "execution_count": 23
  },
  {
   "metadata": {},
   "cell_type": "markdown",
   "source": "## Table user_details"
  },
  {
   "metadata": {
    "ExecuteTime": {
     "end_time": "2024-04-29T09:43:36.671698Z",
     "start_time": "2024-04-29T09:43:35.388740Z"
    }
   },
   "cell_type": "code",
   "source": [
    "try:\n",
    "    new_table = 'song_history'\n",
    "    session.execute(drop_table_query.format(table_name=new_table))\n",
    "    session.execute(\n",
    "        create_table_query.format(\n",
    "            table_name=new_table,\n",
    "            atbs=f\"\"\"\n",
    "                userId bigint,\n",
    "                sessionId bigint,\n",
    "                itemInSession bigint,\n",
    "                firstName text,\n",
    "                lastName text,\n",
    "                artist text,\n",
    "                song text,\n",
    "                {create_primary_key.format(primary_keys=\"(userId, sessionId), itemInSession\")} \n",
    "            \"\"\"\n",
    "        )  #query (2) need query by (userId, sessionId) and order by itemInSession\n",
    "    )\n",
    "except Exception as e:\n",
    "    print(e)"
   ],
   "outputs": [],
   "execution_count": 24
  },
  {
   "metadata": {
    "ExecuteTime": {
     "end_time": "2024-04-29T09:43:37.870252Z",
     "start_time": "2024-04-29T09:43:36.673869Z"
    }
   },
   "cell_type": "code",
   "source": [
    "try:\n",
    "    new_table = 'user_history'\n",
    "    session.execute(drop_table_query.format(table_name=new_table))\n",
    "    session.execute(\n",
    "        create_table_query.format(\n",
    "            table_name=new_table,\n",
    "            atbs=f\"\"\"\n",
    "                userId bigint,\n",
    "                song text,\n",
    "                firstName text,\n",
    "                lastName text,\n",
    "                {create_primary_key.format(primary_keys=\"song, userId\")} \n",
    "            \"\"\"\n",
    "        )  \n",
    "    )\n",
    "except Exception as e:\n",
    "    print(e)"
   ],
   "outputs": [],
   "execution_count": 25
  },
  {
   "cell_type": "markdown",
   "metadata": {},
   "source": [
    "## Create queries to ask the following three questions of the data\n",
    "\n",
    "### 1. Give me the artist, song title and song's length in the music app history that was heard during  sessionId = 338, and itemInSession  = 4\n",
    "\n",
    "\n",
    "### 2. Give me only the following: name of artist, song (sorted by itemInSession) and user (first and last name) for userid = 10, sessionid = 182\n",
    "    \n",
    "\n",
    "### 3. Give me every user name (first and last) in my music app history who listened to the song 'All Hands Against His Own'\n",
    "\n",
    "\n"
   ]
  },
  {
   "metadata": {
    "ExecuteTime": {
     "end_time": "2024-04-29T09:49:09.550366Z",
     "start_time": "2024-04-29T09:43:37.873490Z"
    }
   },
   "cell_type": "code",
   "source": [
    "# We have provided part of the code to set up the CSV file. Please complete the Apache Cassandra code below#\n",
    "file = 'event_datafile_new.csv'\n",
    "\n",
    "with open(file, encoding='utf8') as f:\n",
    "    reader = csv.reader(f)\n",
    "    next(reader)\n",
    "    for line in reader:\n",
    "        session.execute(\n",
    "            insert_query.format(\n",
    "                table_name=\"song_details\",\n",
    "                atbs=\"sessionId, itemInSession, artist, song, length\",\n",
    "                values=\"%s, %s, %s, %s, %s\"),\n",
    "            (int(line[8]), int(line[3]), line[0], line[9], float(line[5]))\n",
    "        )\n",
    "        session.execute(\n",
    "            insert_query.format(\n",
    "                table_name=\"song_history\",\n",
    "                atbs=\"userId,sessionId, itemInSession,firstName, lastName, artist, song\",\n",
    "                values=\"%s, %s, %s, %s,%s, %s, %s\"),\n",
    "            (int(line[10]),int(line[8]), int(line[3]), line[1], line[4], line[0], line[9])\n",
    "        )\n",
    "        session.execute(\n",
    "            insert_query.format(\n",
    "                table_name=\"user_history\",\n",
    "                atbs=\"userId,song, firstName, lastName\",\n",
    "                values=\"%s, %s, %s, %s\"),\n",
    "            (int(line[10]), line[9], line[1], line[4])\n",
    "        )"
   ],
   "outputs": [],
   "execution_count": 26
  },
  {
   "metadata": {},
   "cell_type": "markdown",
   "source": "#### Do a SELECT to verify that the data have been inserted into each table"
  },
  {
   "metadata": {
    "ExecuteTime": {
     "end_time": "2024-04-29T09:49:10.730945Z",
     "start_time": "2024-04-29T09:49:09.558440Z"
    }
   },
   "cell_type": "code",
   "source": [
    "try:\n",
    "    song_details = pd.DataFrame(list(session.execute(select_query.format(atbs='*',\n",
    "                                                                       table_name='song_details',\n",
    "                                                                       where=\"\",\n",
    "                                                                       order=\"\"))))\n",
    "    print(song_details)\n",
    "    song_history = pd.DataFrame(list(session.execute(select_query.format(atbs='*',\n",
    "                                                                    table_name='song_history',\n",
    "                                                                    where=\"\",\n",
    "                                                                    order=\"\"))))\n",
    "    print(song_history)\n",
    "    user_history = pd.DataFrame(list(session.execute(select_query.format(atbs='*',\n",
    "                                                                    table_name='user_history',\n",
    "                                                                    where=\"\",\n",
    "                                                                    order=\"\"))))\n",
    "    print(user_history)\n",
    "except Exception as e:\n",
    "    print(e)\n"
   ],
   "outputs": [
    {
     "name": "stdout",
     "output_type": "stream",
     "text": [
      "      sessionid  iteminsession  \\\n",
      "0           990              1   \n",
      "1           990              2   \n",
      "2          1041              0   \n",
      "3          1041              1   \n",
      "4          1041              2   \n",
      "...         ...            ...   \n",
      "6815       1060              5   \n",
      "6816        931              0   \n",
      "6817        961              0   \n",
      "6818        961              1   \n",
      "6819        961              2   \n",
      "\n",
      "                                                 artist      length  \\\n",
      "0                                             Frou Frou  277.341583   \n",
      "1                                     Justin Timberlake  313.077087   \n",
      "2                                           David Bowie  174.419144   \n",
      "3                                               J Dilla  232.463226   \n",
      "4                                          Hot Hot Heat  295.026489   \n",
      "...                                                 ...         ...   \n",
      "6815                                          12 Stones  184.032196   \n",
      "6816                            Cute Is What We Aim For  222.223221   \n",
      "6817  Barry Tuckwell/Academy of St Martin-in-the-Fie...  277.158722   \n",
      "6818                                       Jimi Hendrix  239.829742   \n",
      "6819                                       Building 429  300.616699   \n",
      "\n",
      "                                                   song  \n",
      "0                                            Breathe In  \n",
      "1                       What Goes Around...Comes Around  \n",
      "2                        Sorrow (1997 Digital Remaster)  \n",
      "3                                              Won't Do  \n",
      "4                                              In Cairo  \n",
      "...                                                 ...  \n",
      "6815                            Anthem For The Underdog  \n",
      "6816                             Risque (Album Version)  \n",
      "6817  Horn Concerto No. 4 in E flat K495: II. Romanc...  \n",
      "6818                            Woodstock Inprovisation  \n",
      "6819                               Majesty (LP Version)  \n",
      "\n",
      "[6820 rows x 5 columns]\n",
      "      userid  sessionid  iteminsession artist  firstname lastname  \\\n",
      "0         69        235              0      F   Anabelle  Simpson   \n",
      "1         69        235              1      F   Anabelle  Simpson   \n",
      "2        100        301              0      M      Adler  Barrera   \n",
      "3        100        301              1      M      Adler  Barrera   \n",
      "4         57        266              0      F  Katherine      Gay   \n",
      "...      ...        ...            ...    ...        ...      ...   \n",
      "6815      97        508              6      F       Kate  Harrell   \n",
      "6816      97        508              7      F       Kate  Harrell   \n",
      "6817      97        508              8      F       Kate  Harrell   \n",
      "6818      97        508              9      F       Kate  Harrell   \n",
      "6819      97        508             10      F       Kate  Harrell   \n",
      "\n",
      "                                           song  \n",
      "0                                  Up Up & Away  \n",
      "1                        None Shall Pass (Main)  \n",
      "2                                  Amazing Life  \n",
      "3                             Let's Get Married  \n",
      "4                                   Nadie Salva  \n",
      "...                                         ...  \n",
      "6815                           Ain't Misbehavin  \n",
      "6816        American Life [Headcleanr Rock Mix]  \n",
      "6817                                 Invincible  \n",
      "6818             You're No Good (Album Version)  \n",
      "6819  Anyway You Choose To Give It (Radio Edit)  \n",
      "\n",
      "[6820 rows x 7 columns]\n",
      "                                     song  userid   firstname lastname\n",
      "0                      Wonder What's Next      49       Chloe   Cuevas\n",
      "1                     In The Dragon's Den      49       Chloe   Cuevas\n",
      "2       Too Tough (1994 Digital Remaster)      44      Aleena    Kirby\n",
      "3     Rio De Janeiro Blue (Album Version)      49       Chloe   Cuevas\n",
      "4                                My Place      15        Lily     Koch\n",
      "...                                   ...     ...         ...      ...\n",
      "6613                         Heartbreaker      95        Sara  Johnson\n",
      "6614                         Heartbreaker      97        Kate  Harrell\n",
      "6615         Leave The City And Come Home      49       Chloe   Cuevas\n",
      "6616                   Tale Of Two Cities      30       Avery  Watkins\n",
      "6617                         Ball & Chain      29  Jacqueline    Lynch\n",
      "\n",
      "[6618 rows x 4 columns]\n"
     ]
    }
   ],
   "execution_count": 27
  },
  {
   "metadata": {
    "ExecuteTime": {
     "end_time": "2024-04-29T09:49:10.755144Z",
     "start_time": "2024-04-29T09:49:10.735914Z"
    }
   },
   "cell_type": "code",
   "source": [
    "## Give me the artist, song title and song's length in the music app history that was heard during \n",
    "# sessionId = 338, and itemInSession = 4\n",
    "\n",
    "query1 = select_query.format(atbs=\"artist, song, length\", table_name='song_details',\n",
    "                             where=where.format(condition=\"sessionId =338 and itemInSession =4\"),\n",
    "                             order=\"\"\n",
    "                             )\n",
    "\n",
    "try:\n",
    "    df_output = pd.DataFrame(list(session.execute(query1)))\n",
    "    print(df_output)\n",
    "except Exception as e:\n",
    "    print(e)\n"
   ],
   "outputs": [
    {
     "name": "stdout",
     "output_type": "stream",
     "text": [
      "      artist                             song      length\n",
      "0  Faithless  Music Matters (Mark Knight Dub)  495.307312\n"
     ]
    }
   ],
   "execution_count": 28
  },
  {
   "cell_type": "markdown",
   "metadata": {},
   "source": [
    "### COPY AND REPEAT THE ABOVE THREE CELLS FOR EACH OF THE THREE QUESTIONS"
   ]
  },
  {
   "cell_type": "code",
   "metadata": {
    "ExecuteTime": {
     "end_time": "2024-04-29T09:49:10.798077Z",
     "start_time": "2024-04-29T09:49:10.757519Z"
    }
   },
   "source": [
    "## Give me only the following: name of artist, song (sorted by itemInSession) and user (first and last name)\\\n",
    "## for userid = 10, sessionid = 182\n",
    "\n",
    "query_session = select_query.format(atbs=\"firstName,lastName, artist, song\",\n",
    "                                    table_name='song_history',\n",
    "                                    where=where.format(\n",
    "                                        condition=\"userId = 10 and sessionId = 182\"),\n",
    "                                    order=order.format(order=\"itemInSession\"))\n",
    "\n",
    "try:\n",
    "    df_output = pd.DataFrame(list(session.execute(query_session)))\n",
    "    print(df_output)\n",
    "except Exception as e:\n",
    "    print(e)\n"
   ],
   "outputs": [
    {
     "name": "stdout",
     "output_type": "stream",
     "text": [
      "  firstname lastname artist                                               song\n",
      "0    Sylvie     Cruz      F                                 Keep On Keepin' On\n",
      "1    Sylvie     Cruz      F                                        Greece 2000\n",
      "2    Sylvie     Cruz      F                                          Kilometer\n",
      "3    Sylvie     Cruz      F  Catch You Baby (Steve Pitron & Max Sanna Radio...\n"
     ]
    }
   ],
   "execution_count": 29
  },
  {
   "cell_type": "code",
   "metadata": {
    "ExecuteTime": {
     "end_time": "2024-04-29T09:49:10.803616Z",
     "start_time": "2024-04-29T09:49:10.800076Z"
    }
   },
   "source": [],
   "outputs": [],
   "execution_count": 29
  },
  {
   "metadata": {
    "ExecuteTime": {
     "end_time": "2024-04-29T09:49:10.842106Z",
     "start_time": "2024-04-29T09:49:10.807624Z"
    }
   },
   "cell_type": "code",
   "source": [
    "##Give me every user name (first and last) in my music app history who listened to the song 'All Hands Against His Own'\n",
    "\n",
    "\n",
    "query_session = select_query.format(atbs=\"firstName, lastName\",\n",
    "                                    table_name='user_history',\n",
    "                                    where=where.format(condition=\"song = 'All Hands Against His Own'\"), order=\"\")\n",
    "\n",
    "try:\n",
    "    df_output = pd.DataFrame(list(session.execute(query_session)))\n",
    "    print(df_output)\n",
    "except Exception as e:\n",
    "    print(e)\n"
   ],
   "outputs": [
    {
     "name": "stdout",
     "output_type": "stream",
     "text": [
      "    firstname lastname\n",
      "0  Jacqueline    Lynch\n",
      "1       Tegan   Levine\n",
      "2        Sara  Johnson\n"
     ]
    }
   ],
   "execution_count": 30
  },
  {
   "cell_type": "code",
   "metadata": {
    "ExecuteTime": {
     "end_time": "2024-04-29T09:49:10.849230Z",
     "start_time": "2024-04-29T09:49:10.845954Z"
    }
   },
   "source": [],
   "outputs": [],
   "execution_count": 30
  },
  {
   "cell_type": "markdown",
   "metadata": {},
   "source": [
    "### Drop the tables before closing out the sessions"
   ]
  },
  {
   "cell_type": "code",
   "metadata": {
    "ExecuteTime": {
     "end_time": "2024-04-29T09:49:10.873991Z",
     "start_time": "2024-04-29T09:49:10.852227Z"
    }
   },
   "source": [
    "## TO-DO: Drop the table before closing out the sessions"
   ],
   "outputs": [],
   "execution_count": 31
  },
  {
   "cell_type": "code",
   "metadata": {
    "ExecuteTime": {
     "end_time": "2024-04-29T09:49:10.900115Z",
     "start_time": "2024-04-29T09:49:10.875991Z"
    }
   },
   "source": [
    "try:\n",
    "    session.execute(drop_table_query.format(table_name=\"session\"))\n",
    "    session.execute(drop_table_query.format(table_name=\"user\"))\n",
    "except Exception as e:\n",
    "    print(e)"
   ],
   "outputs": [
    {
     "ename": "IndentationError",
     "evalue": "expected an indented block after 'try' statement on line 1 (1968770328.py, line 4)",
     "output_type": "error",
     "traceback": [
      "\u001B[1;36m  Cell \u001B[1;32mIn[32], line 4\u001B[1;36m\u001B[0m\n\u001B[1;33m    except Exception as e:\u001B[0m\n\u001B[1;37m    ^\u001B[0m\n\u001B[1;31mIndentationError\u001B[0m\u001B[1;31m:\u001B[0m expected an indented block after 'try' statement on line 1\n"
     ]
    }
   ],
   "execution_count": 32
  },
  {
   "cell_type": "markdown",
   "metadata": {},
   "source": [
    "### Close the session and cluster connection¶"
   ]
  },
  {
   "cell_type": "code",
   "metadata": {
    "ExecuteTime": {
     "end_time": "2024-04-29T09:49:10.903113Z",
     "start_time": "2024-04-29T09:49:10.903113Z"
    }
   },
   "source": [
    "session.shutdown()\n",
    "cluster.shutdown()"
   ],
   "outputs": [],
   "execution_count": null
  },
  {
   "cell_type": "code",
   "metadata": {
    "ExecuteTime": {
     "end_time": "2024-04-29T09:49:10.906116Z",
     "start_time": "2024-04-29T09:49:10.904112Z"
    }
   },
   "source": [],
   "outputs": [],
   "execution_count": null
  },
  {
   "cell_type": "code",
   "metadata": {
    "ExecuteTime": {
     "end_time": "2024-04-29T09:49:10.907120Z",
     "start_time": "2024-04-29T09:49:10.907120Z"
    }
   },
   "source": [],
   "outputs": [],
   "execution_count": null
  },
  {
   "metadata": {},
   "cell_type": "code",
   "source": "",
   "outputs": [],
   "execution_count": null
  }
 ],
 "metadata": {
  "kernelspec": {
   "display_name": "Python 3",
   "language": "python",
   "name": "python3"
  },
  "language_info": {
   "codemirror_mode": {
    "name": "ipython",
    "version": 3
   },
   "file_extension": ".py",
   "mimetype": "text/x-python",
   "name": "python",
   "nbconvert_exporter": "python",
   "pygments_lexer": "ipython3",
   "version": "3.6.3"
  }
 },
 "nbformat": 4,
 "nbformat_minor": 2
}
